{
 "cells": [
  {
   "cell_type": "markdown",
   "source": [
    "Here I finalize the pipeline and ensure it gives me the\n",
    "probabilities I want at the end when given an image."
   ],
   "metadata": {
    "collapsed": false,
    "pycharm": {
     "name": "#%% md\n"
    }
   }
  },
  {
   "cell_type": "code",
   "execution_count": 4,
   "outputs": [],
   "source": [
    "import pickle\n",
    "import numpy as np\n",
    "import matplotlib.pyplot as plt\n",
    "\n",
    "import skimage\n",
    "import skimage.color\n",
    "import skimage.io\n",
    "import skimage.feature\n",
    "import skimage.transform\n",
    "%matplotlib inline"
   ],
   "metadata": {
    "collapsed": false,
    "pycharm": {
     "name": "#%%\n"
    }
   }
  },
  {
   "cell_type": "markdown",
   "source": [
    "We transform the image into a mode where our model can process it.\n",
    "Then we rescale it by multiplying by 255.\n",
    "Then convert it to uint8 since our model expects an 8 bit array image.\n",
    "\n",
    "Then we convert it to grayscale\n",
    "\n",
    "Then into a hog feature."
   ],
   "metadata": {
    "collapsed": false,
    "pycharm": {
     "name": "#%% md\n"
    }
   }
  },
  {
   "cell_type": "code",
   "execution_count": 28,
   "outputs": [],
   "source": [
    "#pipeline model\n",
    "image = skimage.io.imread('eagle.jpg')\n",
    "\n",
    "#Transform image into 80 x 80\n",
    "image_resize = skimage.transform.resize(image, (80, 80))\n",
    "image_scale = 255*image_resize\n",
    "image_transform = image_scale.astype(np.uint8)\n",
    "\n",
    "#rgb to gray\n",
    "gray = skimage.color.rgb2gray(image_transform)\n",
    "#hog feature\n",
    "feature_vector = skimage.feature.hog(gray,\n",
    "                                     orientations=9,\n",
    "                                     pixels_per_cell=(8,8), cells_per_block=(3,3))\n",
    "\n",
    "\n"
   ],
   "metadata": {
    "collapsed": false,
    "pycharm": {
     "name": "#%%\n"
    }
   }
  },
  {
   "cell_type": "code",
   "execution_count": 29,
   "outputs": [
    {
     "data": {
      "text/plain": "array([0.01566118, 0.01359198, 0.02500137, ..., 0.03805931, 0.02104542,\n       0.00313196])"
     },
     "execution_count": 29,
     "metadata": {},
     "output_type": "execute_result"
    }
   ],
   "source": [
    "feature_vector"
   ],
   "metadata": {
    "collapsed": false,
    "pycharm": {
     "name": "#%%\n"
    }
   }
  },
  {
   "cell_type": "markdown",
   "source": [
    "We then load our model and try to predict what the image is."
   ],
   "metadata": {
    "collapsed": false,
    "pycharm": {
     "name": "#%% md\n"
    }
   }
  },
  {
   "cell_type": "code",
   "execution_count": 40,
   "outputs": [],
   "source": [
    "model_svm = pickle.load(open('dsa_image_classification_svc.pickle', 'rb'))"
   ],
   "metadata": {
    "collapsed": false,
    "pycharm": {
     "name": "#%%\n"
    }
   }
  },
  {
   "cell_type": "code",
   "execution_count": 41,
   "outputs": [],
   "source": [
    "scaler = pickle.load(open('dsa_scaler.pickle', 'rb'))"
   ],
   "metadata": {
    "collapsed": false,
    "pycharm": {
     "name": "#%%\n"
    }
   }
  },
  {
   "cell_type": "code",
   "execution_count": 42,
   "outputs": [
    {
     "data": {
      "text/plain": "{'C': 1.0,\n 'break_ties': False,\n 'cache_size': 200,\n 'class_weight': None,\n 'coef0': 0.0,\n 'decision_function_shape': 'ovr',\n 'degree': 3,\n 'gamma': 'scale',\n 'kernel': 'rbf',\n 'max_iter': -1,\n 'probability': True,\n 'random_state': None,\n 'shrinking': True,\n 'tol': 0.001,\n 'verbose': False}"
     },
     "execution_count": 42,
     "metadata": {},
     "output_type": "execute_result"
    }
   ],
   "source": [
    "model_svm.get_params()"
   ],
   "metadata": {
    "collapsed": false,
    "pycharm": {
     "name": "#%%\n"
    }
   }
  },
  {
   "cell_type": "markdown",
   "source": [
    "For just a test, the model predicted eagle correctly."
   ],
   "metadata": {
    "collapsed": false,
    "pycharm": {
     "name": "#%% md\n"
    }
   }
  },
  {
   "cell_type": "code",
   "execution_count": 43,
   "outputs": [],
   "source": [
    "scalex = scaler.transform(feature_vector.reshape(1,-1))\n",
    "result = model_svm.predict(scalex)"
   ],
   "metadata": {
    "collapsed": false,
    "pycharm": {
     "name": "#%%\n"
    }
   }
  },
  {
   "cell_type": "code",
   "execution_count": 44,
   "outputs": [
    {
     "data": {
      "text/plain": "array(['eagle'], dtype='<U8')"
     },
     "execution_count": 44,
     "metadata": {},
     "output_type": "execute_result"
    }
   ],
   "source": [
    "result"
   ],
   "metadata": {
    "collapsed": false,
    "pycharm": {
     "name": "#%%\n"
    }
   }
  },
  {
   "cell_type": "code",
   "execution_count": 90,
   "outputs": [],
   "source": [
    "#probability\n",
    "predicted_prob = model_svm.predict_proba(scalex)\n",
    "predicted_prob = predicted_prob.flatten()\n",
    "labels = model_svm.classes_"
   ],
   "metadata": {
    "collapsed": false,
    "pycharm": {
     "name": "#%%\n"
    }
   }
  },
  {
   "cell_type": "code",
   "execution_count": 56,
   "outputs": [
    {
     "data": {
      "text/plain": "<BarContainer object of 20 artists>"
     },
     "execution_count": 56,
     "metadata": {},
     "output_type": "execute_result"
    },
    {
     "data": {
      "text/plain": "<Figure size 432x288 with 1 Axes>",
      "image/png": "[encoded data removed]"
     },
     "metadata": {
      "needs_background": "light"
     },
     "output_type": "display_data"
    }
   ],
   "source": [
    "plt.barh(labels, predicted_prob)\n"
   ],
   "metadata": {
    "collapsed": false,
    "pycharm": {
     "name": "#%%\n"
    }
   }
  },
  {
   "cell_type": "code",
   "execution_count": 57,
   "outputs": [
    {
     "data": {
      "text/plain": "array([3.71710380e-04, 1.32500199e-03, 3.78408445e-03, 3.11653383e-03,\n       2.80152632e-04, 1.97183162e-03, 2.52398104e-02, 9.24167497e-01,\n       2.43734461e-04, 5.84007259e-04, 1.04753824e-04, 1.97603422e-03,\n       6.10250844e-04, 5.18944401e-04, 5.76324527e-03, 2.66491830e-02,\n       1.34743221e-03, 1.18137603e-03, 6.86017486e-04, 7.83983018e-05])"
     },
     "execution_count": 57,
     "metadata": {},
     "output_type": "execute_result"
    }
   ],
   "source": [
    "predicted_prob"
   ],
   "metadata": {
    "collapsed": false,
    "pycharm": {
     "name": "#%%\n"
    }
   }
  },
  {
   "cell_type": "code",
   "execution_count": 58,
   "outputs": [
    {
     "data": {
      "text/plain": "array(['bear', 'cat', 'chicken', 'cow', 'deer', 'dog', 'duck', 'eagle',\n       'elephant', 'human', 'lion', 'monkey', 'mouse', 'natural', 'panda',\n       'pigeon', 'rabbit', 'sheep', 'tiger', 'wolf'], dtype='<U8')"
     },
     "execution_count": 58,
     "metadata": {},
     "output_type": "execute_result"
    }
   ],
   "source": [
    "labels"
   ],
   "metadata": {
    "collapsed": false,
    "pycharm": {
     "name": "#%%\n"
    }
   }
  },
  {
   "cell_type": "code",
   "execution_count": 77,
   "outputs": [],
   "source": [
    "top_5_prob_ind = predicted_prob.argsort()[::-1][:5]"
   ],
   "metadata": {
    "collapsed": false,
    "pycharm": {
     "name": "#%%\n"
    }
   }
  },
  {
   "cell_type": "code",
   "execution_count": 79,
   "outputs": [
    {
     "data": {
      "text/plain": "array([ 7, 15,  6, 14,  2], dtype=int64)"
     },
     "execution_count": 79,
     "metadata": {},
     "output_type": "execute_result"
    }
   ],
   "source": [
    "top_5_prob_ind"
   ],
   "metadata": {
    "collapsed": false,
    "pycharm": {
     "name": "#%%\n"
    }
   }
  },
  {
   "cell_type": "code",
   "execution_count": 82,
   "outputs": [],
   "source": [
    "top_labels = labels[top_5_prob_ind]\n",
    "top_prob = predicted_prob[top_5_prob_ind]"
   ],
   "metadata": {
    "collapsed": false,
    "pycharm": {
     "name": "#%%\n"
    }
   }
  },
  {
   "cell_type": "markdown",
   "source": [
    "The probabilities of prediction"
   ],
   "metadata": {
    "collapsed": false,
    "pycharm": {
     "name": "#%% md\n"
    }
   }
  },
  {
   "cell_type": "code",
   "execution_count": 108,
   "outputs": [],
   "source": [
    "top_dict = dict()\n",
    "for key, val in zip(top_labels, top_prob):\n",
    "    top_dict.update({key: str(np.round(val,2)*100) + \" %\"})\n",
    "#print(str(key) +\" \" + str(np.round(val,2)*100) + \" %\")"
   ],
   "metadata": {
    "collapsed": false,
    "pycharm": {
     "name": "#%%\n"
    }
   }
  },
  {
   "cell_type": "code",
   "execution_count": 110,
   "outputs": [],
   "source": [
    "def pipeline_model(path, scaler_transform, model):\n",
    "    #pipeline model\n",
    "    image = skimage.io.imread(path)\n",
    "\n",
    "    #Transform image into 80 x 80\n",
    "    image_resize = skimage.transform.resize(image, (80, 80))\n",
    "    image_scale = 255*image_resize\n",
    "    image_transform = image_scale.astype(np.uint8)\n",
    "\n",
    "    #rgb to gray\n",
    "    gray = skimage.color.rgb2gray(image_transform)\n",
    "    #hog feature\n",
    "    feature_vector = skimage.feature.hog(gray,\n",
    "                                         orientations=9,\n",
    "                                         pixels_per_cell=(8,8), cells_per_block=(3,3))\n",
    "\n",
    "    #scaling\n",
    "    scalex = scaler_transform.transform(feature_vector.reshape(1,-1))\n",
    "    result = model.predict(scalex)\n",
    "\n",
    "    #probability\n",
    "    predicted_prob = model.predict_proba(scalex)\n",
    "    predicted_prob = predicted_prob.flatten()\n",
    "    labels = model.classes_\n",
    "\n",
    "    top_5_prob_ind = predicted_prob.argsort()[::-1][:5]\n",
    "    top_labels = labels[top_5_prob_ind]\n",
    "    top_prob = predicted_prob[top_5_prob_ind]\n",
    "\n",
    "    top_dict = dict()\n",
    "    for key, val in zip(top_labels, top_prob):\n",
    "        top_dict.update({key: str(np.round(val,2)*100) + \" %\"})\n",
    "\n",
    "    return top_dict"
   ],
   "metadata": {
    "collapsed": false,
    "pycharm": {
     "name": "#%%\n"
    }
   }
  },
  {
   "cell_type": "code",
   "execution_count": 111,
   "outputs": [
    {
     "data": {
      "text/plain": "{'eagle': '92.0 %',\n 'pigeon': '3.0 %',\n 'duck': '3.0 %',\n 'panda': '1.0 %',\n 'chicken': '0.0 %'}"
     },
     "execution_count": 111,
     "metadata": {},
     "output_type": "execute_result"
    }
   ],
   "source": [
    "pipeline_model('eagle.jpg', scaler, model_svm)"
   ],
   "metadata": {
    "collapsed": false,
    "pycharm": {
     "name": "#%%\n"
    }
   }
  }
 ],
 "metadata": {
  "kernelspec": {
   "display_name": "Python 3",
   "language": "python",
   "name": "python3"
  },
  "language_info": {
   "codemirror_mode": {
    "name": "ipython",
    "version": 2
   },
   "file_extension": ".py",
   "mimetype": "text/x-python",
   "name": "python",
   "nbconvert_exporter": "python",
   "pygments_lexer": "ipython2",
   "version": "2.7.6"
  }
 },
 "nbformat": 4,
 "nbformat_minor": 0
}